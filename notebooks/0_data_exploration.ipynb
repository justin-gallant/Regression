{
 "cells": [
  {
   "metadata": {},
   "cell_type": "markdown",
   "source": [
    "# 0: Data Exploration\n",
    "## ETL Pipeline: Extract, Transform, Load"
   ],
   "id": "6e373f52fc3eacfa"
  },
  {
   "metadata": {},
   "cell_type": "markdown",
   "source": [
    "### Extract\n",
    "\n",
    "[AnoShift](https://arxiv.org/abs/2206.15476) is a benchmarking paper designed for evaluating unsupervised anomaly detection models under realistic, gradual distribution shifts. The dataset is accessible from a publicly visible endpoint. It is accessible via a simple curl (http) request."
   ],
   "id": "70a2cec2991c72b7"
  },
  {
   "metadata": {},
   "cell_type": "code",
   "source": [
    "import os\n",
    "import shutil\n",
    "import subprocess\n",
    "\n",
    "# Check cwd\n",
    "cwd=os.getcwd()\n",
    "print(cwd)\n",
    "if not (cwd.endswith(\"src/bayesian-learning-under-distribution-shift\")):\n",
    "    os.chdir('src/bayesian-learning-under-distribution-shift')\n",
    "\n",
    "# Get data from API\n",
    "download_url = \"https://storage.googleapis.com/bitdefender_ml_artifacts/anoshift/Kyoto-2016_AnoShift.tar\"\n",
    "subprocess.run([\"curl\", download_url, \"--output\", \"data/AnoShift.tar\"], check=True)\n",
    "tar_path = \"data/AnoShift.tar\"\n",
    "\n",
    "# Unzip\n",
    "subprocess.run([\"tar\", \"-xf\", tar_path, \"-C\", \"data\"], check=True)"
   ],
   "id": "5a0dcd6caf24b52f",
   "outputs": [],
   "execution_count": null
  },
  {
   "metadata": {},
   "cell_type": "markdown",
   "source": [
    "### Transform\n",
    "\n",
    "The AnoShift research team has already transformed the data into usable and distributed subsets:\n",
    "\n",
    "```\n",
    "Kyoto-2016_AnoShift/\n",
    "├── full\n",
    "│   ├── 2006_full.parquet\n",
    "│   ├── 2006_full_valid.parquet\n",
    "│   ├── 2007_full.parquet\n",
    "│   ├── 2007_full_valid.parquet\n",
    "│   ├── 2008_full.parquet\n",
    "│   ├── 2008_full_valid.parquet\n",
    "│   ├── 2009_full.parquet\n",
    "│   ├── 2009_full_valid.parquet\n",
    "│   ├── 2010_full.parquet\n",
    "│   ├── 2010_full_valid.parquet\n",
    "│   ├── 2011_full.parquet\n",
    "│   ├── 2011_full_valid.parquet\n",
    "│   ├── 2012_full.parquet\n",
    "│   ├── 2012_full_valid.parquet\n",
    "│   ├── 2013_full.parquet\n",
    "│   ├── 2013_full_valid.parquet\n",
    "│   ├── 2014_full.parquet\n",
    "│   ├── 2014_full_valid.parquet\n",
    "│   ├── 2015_full.parquet\n",
    "│   └── 2015_full_valid.parquet\n",
    "└── subset\n",
    "    ├── 2006_subset.parquet\n",
    "    ├── 2006_subset_valid.parquet\n",
    "    ├── 2007_subset.parquet\n",
    "    ├── 2007_subset_valid.parquet\n",
    "    ├── 2008_subset.parquet\n",
    "    ├── 2008_subset_valid.parquet\n",
    "    ├── 2009_subset.parquet\n",
    "    ├── 2009_subset_valid.parquet\n",
    "    ├── 2010_subset.parquet\n",
    "    ├── 2010_subset_valid.parquet\n",
    "    ├── 2011_subset.parquet\n",
    "    ├── 2011_subset_valid.parquet\n",
    "    ├── 2012_subset.parquet\n",
    "    ├── 2012_subset_valid.parquet\n",
    "    ├── 2013_subset.parquet\n",
    "    ├── 2013_subset_valid.parquet\n",
    "    ├── 2014_subset.parquet\n",
    "    ├── 2014_subset_valid.parquet\n",
    "    ├── 2015_subset.parquet\n",
    "    └── 2015_subset_valid.parquet\n",
    "```\n",
    "\n",
    "Furthermore,\n",
    "\n",
    "Data from the years 2006-2010 is fully I.I.D\n",
    "\n",
    "Data from the years 2011-2013 is the NEAR split\n",
    "\n",
    "Data from the years 2014-2015 is the FAR split\n",
    "![Feature Shift Normal vs Abnormal](https://raw.githubusercontent.com/bit-ml/AnoShift/main/resources/feat_shift_normals_abnormals.png)"
   ],
   "id": "c1035788ce1d79ce"
  },
  {
   "metadata": {},
   "cell_type": "markdown",
   "source": "### Explore",
   "id": "2d8b0b01a7054eee"
  },
  {
   "metadata": {},
   "cell_type": "code",
   "outputs": [],
   "execution_count": null,
   "source": "",
   "id": "397fa2313845f0c8"
  }
 ],
 "metadata": {
  "kernelspec": {
   "display_name": "Python 3",
   "language": "python",
   "name": "python3"
  },
  "language_info": {
   "codemirror_mode": {
    "name": "ipython",
    "version": 2
   },
   "file_extension": ".py",
   "mimetype": "text/x-python",
   "name": "python",
   "nbconvert_exporter": "python",
   "pygments_lexer": "ipython2",
   "version": "2.7.6"
  }
 },
 "nbformat": 4,
 "nbformat_minor": 5
}
